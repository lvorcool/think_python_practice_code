{
 "cells": [
  {
   "cell_type": "markdown",
   "metadata": {},
   "source": [
    "# 第五章"
   ]
  },
  {
   "cell_type": "markdown",
   "metadata": {},
   "source": [
    "## 5.9 练习"
   ]
  },
  {
   "cell_type": "code",
   "execution_count": 1,
   "metadata": {
    "collapsed": true
   },
   "outputs": [],
   "source": [
    "def print_n(s, n):\n",
    "    if n <= 0:\n",
    "        return\n",
    "    print(s)\n",
    "    print_n(s, n-1)"
   ]
  },
  {
   "cell_type": "code",
   "execution_count": 3,
   "metadata": {},
   "outputs": [
    {
     "name": "stdout",
     "output_type": "stream",
     "text": [
      "hello\n",
      "hello\n"
     ]
    }
   ],
   "source": [
    "print_n('hello', 2)"
   ]
  },
  {
   "attachments": {
    "8.png": {
     "image/png": "[encoded data removed]"
    }
   },
   "cell_type": "markdown",
   "metadata": {},
   "source": [
    "### print_n 的栈图如下:\n",
    "![8.png](attachment:8.png)"
   ]
  },
  {
   "cell_type": "markdown",
   "metadata": {},
   "source": [
    "### 写一个函数 do_n, 接受一个函数对象和一个数字 n 作为形参。它会调用给定的函数 n 次\n",
    "```python\n",
    "def do_n(func, n):\n",
    "    if n <= 0:\n",
    "        return\n",
    "    print(n)\n",
    "    do_n(func, n-1)\n",
    "```"
   ]
  },
  {
   "cell_type": "markdown",
   "metadata": {},
   "source": [
    "## 练习 5-1"
   ]
  },
  {
   "cell_type": "markdown",
   "metadata": {},
   "source": [
    "### 编写一个脚本，读取当前时间，并转换为一天中的小时数、分钟数、秒数，以及从纪元起到现在的天数"
   ]
  },
  {
   "cell_type": "code",
   "execution_count": 19,
   "metadata": {},
   "outputs": [
    {
     "name": "stdout",
     "output_type": "stream",
     "text": [
      "从纪元起到现在的天数:  17814\n",
      "一天中的秒数:  34448\n",
      "一天中的分钟数:  574\n",
      "一天中的小时数:  9\n"
     ]
    }
   ],
   "source": [
    "import time\n",
    "now = time.time() # 当前时间的时间戳，以秒为单位\n",
    "day = now // (60 * 60 * 24) # 向下取整数\n",
    "print('从纪元起到现在的天数: ' , int(day))\n",
    "\n",
    "second = now % (60 * 60 * 24) # 求余，即秒数\n",
    "print('一天中的秒数: ', int(second))\n",
    "\n",
    "minute = second / 60\n",
    "print('一天中的分钟数: ', int(minute))\n",
    "\n",
    "hour = minute / 60\n",
    "print('一天中的小时数: ', int(hour))"
   ]
  },
  {
   "cell_type": "markdown",
   "metadata": {},
   "source": [
    "## 练习 5-2"
   ]
  },
  {
   "cell_type": "markdown",
   "metadata": {},
   "source": [
    "### 费马大定理是说对于任何大于2的 n ， 不存在任何正整数 a、b和c能够满足: a^n + b^n = c^n"
   ]
  },
  {
   "cell_type": "markdown",
   "metadata": {},
   "source": [
    "### 1.编写一个函数 check_fermat,  接收 4 个形参(即 a、b、c 和 n)并检查费马定理是否成立。如果 n 比 2 大并且满足 a^n + b^n = c^n 则程序应当打印 \"天呐，费马弄错了！\"， 否则程序应当打印\"不，那样不行\""
   ]
  },
  {
   "cell_type": "code",
   "execution_count": 22,
   "metadata": {},
   "outputs": [
    {
     "name": "stdout",
     "output_type": "stream",
     "text": [
      "不，那样不行\n"
     ]
    }
   ],
   "source": [
    "def check_fermat(a, b, c, n):\n",
    "    if a**n + b**n == c**n:\n",
    "        print(\"天呐，费马弄错了\")\n",
    "    else:\n",
    "        print(\"不，那样不行\")\n",
    "        \n",
    "check_fermat(3,3,3,4)"
   ]
  },
  {
   "cell_type": "markdown",
   "metadata": {},
   "source": [
    "### 2.编写一个函数，提示用户输入 a、b、c 和 n的值， 将它们转换为整数， 并使用 check_fermat 来检查它们是否违背了费马定理"
   ]
  },
  {
   "cell_type": "markdown",
   "metadata": {},
   "source": [
    "```python\n",
    "def check_fermat(a, b, c, n):\n",
    "    if a**n + b**n == c**n:\n",
    "        print(\"天呐，费马弄错了\")\n",
    "    else:\n",
    "        print(\"不，那样不行\")\n",
    "        \n",
    "def input_abcn():\n",
    "    res = input('请依次输入正整数a、b、c、n来检验费马定理是否正确(输入时请以空格隔开)\\n')\n",
    "    a, b, c, n = [int(n) for n in res.strip().split()]\n",
    "    check_fermat(a, b, c, n)\n",
    "```"
   ]
  },
  {
   "cell_type": "code",
   "execution_count": null,
   "metadata": {
    "collapsed": true
   },
   "outputs": [],
   "source": []
  }
 ],
 "metadata": {
  "kernelspec": {
   "display_name": "Python 3",
   "language": "python",
   "name": "python3"
  },
  "language_info": {
   "codemirror_mode": {
    "name": "ipython",
    "version": 3
   },
   "file_extension": ".py",
   "mimetype": "text/x-python",
   "name": "python",
   "nbconvert_exporter": "python",
   "pygments_lexer": "ipython3",
   "version": "3.6.3"
  }
 },
 "nbformat": 4,
 "nbformat_minor": 2
}
