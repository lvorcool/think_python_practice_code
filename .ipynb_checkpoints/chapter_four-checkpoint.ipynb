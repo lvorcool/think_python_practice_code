{
 "cells": [
  {
   "cell_type": "markdown",
   "metadata": {},
   "source": [
    "# 第四章 案例研究: 接口设计"
   ]
  },
  {
   "cell_type": "markdown",
   "metadata": {},
   "source": [
    "## 4.3 练习"
   ]
  },
  {
   "cell_type": "markdown",
   "metadata": {},
   "source": [
    "### 1. 写一个函数 square, 接受一个形参 t, 用来表示一只乌龟. 利用乌龟来画一个正方形\n",
    "  ### 写一个函数调用传入 bob 作为实参来调用 square 函数, 并再运行一遍程序"
   ]
  },
  {
   "cell_type": "markdown",
   "metadata": {},
   "source": [
    "```python\n",
    "import turtle\n",
    "def square(t):\n",
    "    for i in range(4):\n",
    "        t.fd(100)\n",
    "        t.lt(90)\n",
    "\n",
    "bob = turtle.Turtle()\n",
    "square(bob)\n",
    "```"
   ]
  },
  {
   "cell_type": "markdown",
   "metadata": {},
   "source": [
    "### 2.给 square 函数再添加一个形参 length, 修改函数内容, 保证正方形的长度是length, 并修改函数调用以提供这第二个实参. 再运行一遍程序. 使用不同的 length 值测试你的程序"
   ]
  },
  {
   "cell_type": "markdown",
   "metadata": {
    "collapsed": true
   },
   "source": [
    "```python\n",
    "import turtle\n",
    "\n",
    "def square(t, l):\n",
    "    '''画正方形, 自定义边长\n",
    "    arg:\n",
    "    t: turtle对象\n",
    "    l: 边长\n",
    "    '''\n",
    "    for i in range(4):\n",
    "        t.fd(l)\n",
    "        t.lt(90)\n",
    "\n",
    "bob = turtle.Turtle()\n",
    "square(bob, 200)\n",
    "```"
   ]
  },
  {
   "cell_type": "markdown",
   "metadata": {},
   "source": [
    "### 3.复制 square 函数, 并命名为 polygon, 再添加一个形参 n 并修改函数体以绘制一个正 n 边形。提示: 正 n 边形的拐角是 360/n 度"
   ]
  },
  {
   "cell_type": "markdown",
   "metadata": {
    "collapsed": true
   },
   "source": [
    "```python\n",
    "import turtle\n",
    "\n",
    "def polygon(t, l, n):\n",
    "    '''画多边形, 长度和边数可自定义\n",
    "    arg:\n",
    "    t: turtle对象\n",
    "    l: 边长\n",
    "    n: 边数\n",
    "    '''\n",
    "    for i in range(n):\n",
    "        t.fd(l)\n",
    "        t.lt(360/n)\n",
    "\n",
    "bob = turtle.Turtle()\n",
    "polygon(bob, 50, 8)\n",
    "```"
   ]
  },
  {
   "cell_type": "markdown",
   "metadata": {},
   "source": [
    "### 4. 写一个函数 circle 接受代表乌龟的形参 t, 以及表示半径的形参 r, 并使用合适的长度和边数调用 polygon 画一个近似的圆。 使用不同的 r 值来测试你的函数"
   ]
  },
  {
   "cell_type": "markdown",
   "metadata": {
    "collapsed": true
   },
   "source": [
    "```python\n",
    "import turtle\n",
    "import math\n",
    "\n",
    "def polygon(t, l, n):\n",
    "    for i in range(n):\n",
    "        t.fd(l)\n",
    "        t.lt(360/n)\n",
    "        \n",
    "def circle(t, r):\n",
    "    '''画圆, 半径自定义\n",
    "    arg:\n",
    "    t: turtle对象\n",
    "    r: 半径\n",
    "    '''\n",
    "    circumference = 2 * math.pi * r  # 获取圆周长\n",
    "    n = int(circumference / 3) + 1   # 获取边数\n",
    "    l = circumference / n            # 获取边长\n",
    "    polygon(t, l, n)\n",
    "    \n",
    "bob = turtle.Turtle()\n",
    "circle(bob, 10)\n",
    "```"
   ]
  },
  {
   "cell_type": "markdown",
   "metadata": {},
   "source": [
    "### 5.给 circle 函数写一个 更通用的版本, 称为 arc, 增加一个形参 angle, 用来表示画的圆弧的大小, 这里的 angle 的单位是度数, 所以当 arc = 360时, 则会画一个整圆"
   ]
  },
  {
   "cell_type": "markdown",
   "metadata": {
    "collapsed": true
   },
   "source": [
    "```python\n",
    "import turtle\n",
    "import math\n",
    "\n",
    "def polyline(t, n, l, angle):\n",
    "    '''多边线, 边长, 边数，边的弧度可自定义\n",
    "    arg:\n",
    "    n: int, 边数\n",
    "    l: float, 边长\n",
    "    angle: int, 边的弧度\n",
    "    '''\n",
    "    for i in range(n):\n",
    "        t.fd(l)\n",
    "        t.lt(angle)\n",
    "\n",
    "def polygon(t, l, n):\n",
    "    '''多边形, 边长，边数可自定义\n",
    "    arg:\n",
    "    l: 边长\n",
    "    n: 边数\n",
    "    '''\n",
    "    angle = 360 / n\n",
    "    polyline(t, n, l, angle)\n",
    "        \n",
    "def circle(t, r):\n",
    "    '''画圆\n",
    "    r: 半径\n",
    "    '''\n",
    "    arc(t, r, 360)\n",
    "    \n",
    "    \n",
    "def arc(t, r, angle):\n",
    "    '''圆弧\n",
    "    arg:\n",
    "    r: 半径\n",
    "    angle: 圆弧度\n",
    "    '''\n",
    "    l = math.pi * r * angle / 180 # 求弧长\n",
    "    n = int(l / 3) + 1 # 求边数\n",
    "    step_l = float(l) / n # 求边长\n",
    "    step_angle = float(angle) / n  # 求边的弧度\n",
    "    poyline(t, n, step_l, step_angle)\n",
    "    \n",
    "bob = turtle.Turtle()\n",
    "circle(bob, 10, 360)\n",
    "```"
   ]
  },
  {
   "cell_type": "markdown",
   "metadata": {},
   "source": [
    "## 4.12 练习"
   ]
  },
  {
   "cell_type": "markdown",
   "metadata": {},
   "source": [
    "## 练习 4-1"
   ]
  },
  {
   "cell_type": "markdown",
   "metadata": {},
   "source": [
    "### 1. 画一个栈图来显示函数 circle(bob, radius) 运行时的程序状态。 你可以手动计算， 或者在代码中添加一些 print 语句"
   ]
  },
  {
   "cell_type": "markdown",
   "metadata": {},
   "source": [
    "```python\n",
    "def circle(t, r):\n",
    "    \"\"\"Draws a circle with the given radius.\n",
    "\n",
    "    t: Turtle\n",
    "    r: radius\n",
    "    \"\"\"\n",
    "    arc(t, r, 360)\n",
    "```\n",
    "### 其余代码见上5的解答\n",
    "\n",
    "### 栈图如下"
   ]
  },
  {
   "attachments": {
    "%E6%A0%88%E5%9B%BE.png": {
     "image/png": "[encoded data removed]"
    }
   },
   "cell_type": "markdown",
   "metadata": {},
   "source": [
    "![%E6%A0%88%E5%9B%BE.png](attachment:%E6%A0%88%E5%9B%BE.png)"
   ]
  },
  {
   "cell_type": "markdown",
   "metadata": {},
   "source": [
    "### 2. 在 4.7 节中的 arc 函数并不准确, 因为使用多边形模拟近似圆, 总是会在真实的圆之外。因此, Turtle 画完线之后会停在偏离正确的目标几个像素的地方。 我的解决方案里展示了一种方法可以减少这种错误的效果。 阅读代码是否合理。 如果你自己画图, 可能会发现它是如何生效的"
   ]
  },
  {
   "cell_type": "markdown",
   "metadata": {},
   "source": [
    "```python\n",
    "def arc(t, r, angle):\n",
    "    l = math.pi * r * angle / 180\n",
    "    n = int(l / 3) + 1\n",
    "    step_length = l / n\n",
    "    step_angle = float(angle) / n\n",
    "    polyline(t, n, step_length, step_angle)     \n",
    "```\n",
    "    \n",
    "### 改善后\n",
    "```python\n",
    "def arc(t, r, angle):\n",
    "    \"\"\"Draws an arc with the given radius and angle.\n",
    "\n",
    "    t: Turtle\n",
    "    r: radius\n",
    "    angle: angle subtended by the arc, in degrees\n",
    "    \"\"\"\n",
    "    arc_length = 2 * math.pi * r * abs(angle) / 360\n",
    "    n = int(arc_length / 4) + 3\n",
    "    step_length = arc_length / n\n",
    "    step_angle = float(angle) / n\n",
    "\n",
    "    # making a slight left turn before starting reduces\n",
    "    # the error caused by the linear approximation of the arc\n",
    "    t.lt(step_angle/2)\n",
    "    polyline(t, n, step_length, step_angle)\n",
    "    t.rt(step_angle/2)\n",
    "    \n",
    "if __name__ == '__main__':\n",
    "    bob = turtle.Turtle()\n",
    "\n",
    "    # draw a circle centered on the origin\n",
    "    radius = 100\n",
    "    bob.pu()\n",
    "    bob.fd(radius)\n",
    "    bob.lt(90)\n",
    "    bob.pd()\n",
    "    circle(bob, radius)\n",
    "\n",
    "    # wait for the user to close the window\n",
    "    turtle.mainloop()\n",
    "```  \n",
    "### 结论: 对数据的类型做了校验处理， 让圆的中心以原点为中心,  初始画圆和结束画圆时做了细微的处理，前进二分之一的边"
   ]
  },
  {
   "cell_type": "code",
   "execution_count": null,
   "metadata": {
    "collapsed": true
   },
   "outputs": [],
   "source": []
  }
 ],
 "metadata": {
  "kernelspec": {
   "display_name": "Python 3",
   "language": "python",
   "name": "python3"
  },
  "language_info": {
   "codemirror_mode": {
    "name": "ipython",
    "version": 3
   },
   "file_extension": ".py",
   "mimetype": "text/x-python",
   "name": "python",
   "nbconvert_exporter": "python",
   "pygments_lexer": "ipython3",
   "version": "3.6.3"
  }
 },
 "nbformat": 4,
 "nbformat_minor": 2
}
