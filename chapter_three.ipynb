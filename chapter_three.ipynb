{
 "cells": [
  {
   "cell_type": "markdown",
   "metadata": {},
   "source": [
    "# 第三章 函数"
   ]
  },
  {
   "cell_type": "markdown",
   "metadata": {},
   "source": [
    "## 练习 3-1"
   ]
  },
  {
   "cell_type": "markdown",
   "metadata": {},
   "source": [
    "### 1.编写一个函数 right_justify, 接受一个字符串形参 s, 并打印出足够的前导空白, 已达到最后一个字符显示在第70列上."
   ]
  },
  {
   "cell_type": "code",
   "execution_count": 1,
   "metadata": {
    "collapsed": true
   },
   "outputs": [],
   "source": [
    "def right_justify(word):\n",
    "    q = len(word)\n",
    "    print((70-q)*' ' + word)"
   ]
  },
  {
   "cell_type": "code",
   "execution_count": 2,
   "metadata": {},
   "outputs": [
    {
     "name": "stdout",
     "output_type": "stream",
     "text": [
      "                                                                 hello\n"
     ]
    }
   ],
   "source": [
    "right_justify('hello')"
   ]
  },
  {
   "cell_type": "markdown",
   "metadata": {},
   "source": [
    "## 练习 3-2"
   ]
  },
  {
   "cell_type": "markdown",
   "metadata": {},
   "source": [
    "函数对象是一个值, 可以将它赋值给变量, 或者作为实参传递. 例如, do_twice是一个函数, 接收一个函数对象作为实参, 并调用它两次:"
   ]
  },
  {
   "cell_type": "code",
   "execution_count": 3,
   "metadata": {
    "collapsed": true
   },
   "outputs": [],
   "source": [
    "def do_twice(func):\n",
    "    '''\n",
    "    运行func两次\n",
    "    func : 函数对象, function object\n",
    "    '''\n",
    "    func()\n",
    "    func()"
   ]
  },
  {
   "cell_type": "markdown",
   "metadata": {},
   "source": [
    "下面是一个使用 do_twice 来调用一个 print_spam 函数两次的示例:"
   ]
  },
  {
   "cell_type": "code",
   "execution_count": 4,
   "metadata": {},
   "outputs": [
    {
     "name": "stdout",
     "output_type": "stream",
     "text": [
      "sam\n",
      "sam\n"
     ]
    }
   ],
   "source": [
    "def print_spam():\n",
    "    print('sam')\n",
    "\n",
    "do_twice(print_spam)"
   ]
  },
  {
   "cell_type": "markdown",
   "metadata": {},
   "source": [
    "### 1. 修改 do_twice, 让它接收两个实参, 一个是函数对象, 另一个是一个值, 它会调用函数对象两次, 并传入那个值作为实参"
   ]
  },
  {
   "cell_type": "code",
   "execution_count": 14,
   "metadata": {},
   "outputs": [],
   "source": [
    "def do_twice(func, arg):\n",
    "    '''\n",
    "    运行函数两次\n",
    "    func: 函数对象, function object\n",
    "    arg: 函数对象func的实参, argument passed to the function\n",
    "    '''\n",
    "    func(arg)\n",
    "    func(arg)"
   ]
  },
  {
   "cell_type": "markdown",
   "metadata": {},
   "source": [
    "### 2.将本章前面介绍的函数 print_twice 的定义复制到你的脚本中"
   ]
  },
  {
   "cell_type": "code",
   "execution_count": 11,
   "metadata": {
    "collapsed": true
   },
   "outputs": [],
   "source": [
    "def print_twice(arg):\n",
    "    '''\n",
    "    打印参数两次\n",
    "    arg: 任意值\n",
    "    '''\n",
    "    print(bruce)\n",
    "    print(bruce)"
   ]
  },
  {
   "cell_type": "markdown",
   "metadata": {},
   "source": [
    "### 3.使用修改版的 do_twice 来调用 print_twice 的定义复制到你的脚本中"
   ]
  },
  {
   "cell_type": "code",
   "execution_count": 20,
   "metadata": {},
   "outputs": [
    {
     "name": "stdout",
     "output_type": "stream",
     "text": [
      "kkkk\n",
      "kkkk\n",
      "kkkk\n",
      "kkkk\n"
     ]
    }
   ],
   "source": [
    "do_twice(print_twice, 'kkkk')"
   ]
  },
  {
   "cell_type": "markdown",
   "metadata": {},
   "source": [
    "### 4. 定义一个新的函数 do_four, 接收一个函数对象与一个值, 使用这个值作为实参调用函数4次. 这个函数的函数体应该只有2条语句, 而不是4条."
   ]
  },
  {
   "cell_type": "code",
   "execution_count": 17,
   "metadata": {},
   "outputs": [
    {
     "name": "stdout",
     "output_type": "stream",
     "text": [
      "spam\n",
      "spam\n",
      "spam\n",
      "spam\n",
      "spam\n",
      "spam\n",
      "spam\n",
      "spam\n"
     ]
    }
   ],
   "source": [
    "def do_four(func, arg):\n",
    "    '''\n",
    "    运行函数四次\n",
    "    func: 函数对象\n",
    "    arg: 函数对象func的实参\n",
    "    '''\n",
    "    do_twice(f, w)\n",
    "    do_twice(f, w)\n",
    "\n",
    "do_four(print_twice, 'spam')"
   ]
  },
  {
   "cell_type": "markdown",
   "metadata": {},
   "source": [
    "### 练习 3-3"
   ]
  },
  {
   "cell_type": "markdown",
   "metadata": {},
   "source": [
    "### 1.编写一个函数, 绘制如下的表格:"
   ]
  },
  {
   "cell_type": "code",
   "execution_count": null,
   "metadata": {
    "collapsed": true
   },
   "outputs": [],
   "source": [
    "+ - - - - + - - - - +\n",
    "|         |         |\n",
    "|         |         |\n",
    "|         |         |\n",
    "|         |         |\n",
    "+ - - - - + - - - - +\n",
    "|         |         |\n",
    "|         |         |\n",
    "|         |         |\n",
    "|         |         |\n",
    "+ - - - - + - - - - +"
   ]
  },
  {
   "cell_type": "code",
   "execution_count": 32,
   "metadata": {},
   "outputs": [
    {
     "name": "stdout",
     "output_type": "stream",
     "text": [
      "+ - - - - + - - - - +\n",
      "|         |         |\n",
      "|         |         |\n",
      "|         |         |\n",
      "|         |         |\n",
      "+ - - - - + - - - - +\n",
      "|         |         |\n",
      "|         |         |\n",
      "|         |         |\n",
      "|         |         |\n",
      "+ - - - - + - - - - +\n"
     ]
    }
   ],
   "source": [
    "print('+' + ' -'*4 + ' +' + ' -'*4 + ' +')\n",
    "print('|'+ ' '*9 + '|'+ ' '*9 + '|')\n",
    "print('|'+ ' '*9 + '|'+ ' '*9 + '|')\n",
    "print('|'+ ' '*9 + '|'+ ' '*9 + '|')\n",
    "print('|'+ ' '*9 + '|'+ ' '*9 + '|')\n",
    "print('+' + ' -'*4 + ' +' + ' -'*4 + ' +')\n",
    "print('|'+ ' '*9 + '|'+ ' '*9 + '|')\n",
    "print('|'+ ' '*9 + '|'+ ' '*9 + '|')\n",
    "print('|'+ ' '*9 + '|'+ ' '*9 + '|')\n",
    "print('|'+ ' '*9 + '|'+ ' '*9 + '|')\n",
    "print('+' + ' -'*4 + ' +' + ' -'*4 + ' +')"
   ]
  },
  {
   "cell_type": "code",
   "execution_count": 34,
   "metadata": {},
   "outputs": [
    {
     "name": "stdout",
     "output_type": "stream",
     "text": [
      "+ - - - - + - - - - +\n",
      "|         |         |\n",
      "|         |         |\n",
      "|         |         |\n",
      "|         |         |\n",
      "+ - - - - + - - - - +\n",
      "|         |         |\n",
      "|         |         |\n",
      "|         |         |\n",
      "|         |         |\n",
      "+ - - - - + - - - - +\n"
     ]
    }
   ],
   "source": [
    "def add_less():\n",
    "    print('+' + ' -'*4 + ' +' + ' -'*4 + ' +')\n",
    "\n",
    "def bar():\n",
    "    print('|'+ ' '*9 + '|'+ ' '*9 + '|')\n",
    "    print('|'+ ' '*9 + '|'+ ' '*9 + '|')\n",
    "    print('|'+ ' '*9 + '|'+ ' '*9 + '|')\n",
    "    print('|'+ ' '*9 + '|'+ ' '*9 + '|')\n",
    "\n",
    "def main():\n",
    "    add_less()\n",
    "    bar()\n",
    "    add_less()\n",
    "    bar()\n",
    "    add_less()\n",
    "    \n",
    "main()"
   ]
  },
  {
   "cell_type": "markdown",
   "metadata": {},
   "source": [
    "笔记: print(string, end=' ') 表示打印string后不换行"
   ]
  }
 ],
 "metadata": {
  "kernelspec": {
   "display_name": "Python 3",
   "language": "python",
   "name": "python3"
  },
  "language_info": {
   "codemirror_mode": {
    "name": "ipython",
    "version": 3
   },
   "file_extension": ".py",
   "mimetype": "text/x-python",
   "name": "python",
   "nbconvert_exporter": "python",
   "pygments_lexer": "ipython3",
   "version": "3.6.3"
  }
 },
 "nbformat": 4,
 "nbformat_minor": 2
}
