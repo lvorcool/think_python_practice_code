{
 "cells": [
  {
   "cell_type": "markdown",
   "metadata": {},
   "source": [
    "# 第四章 案例研究: 接口设计"
   ]
  },
  {
   "cell_type": "markdown",
   "metadata": {},
   "source": [
    "## 4.3 练习"
   ]
  },
  {
   "cell_type": "markdown",
   "metadata": {},
   "source": [
    "### 1. 写一个函数 square, 接受一个形参 t, 用来表示一只乌龟. 利用乌龟来画一个正方形\n",
    "  ### 写一个函数调用传入 bob 作为实参来调用 square 函数, 并再运行一遍程序"
   ]
  },
  {
   "cell_type": "code",
   "execution_count": 1,
   "metadata": {},
   "outputs": [],
   "source": [
    "import turtle\n",
    "def square(t):\n",
    "    for i in range(4):\n",
    "        t.fd(100)\n",
    "        t.lt(90)\n",
    "\n",
    "def main(bob):\n",
    "    square(bob)\n",
    "\n",
    "bob = turtle.Turtle()\n",
    "main(bob)"
   ]
  },
  {
   "cell_type": "markdown",
   "metadata": {},
   "source": [
    "### 2.给 square 函数再添加一个形参 length, 修改函数内容, 保证正方形的长度是length, 并修改函数调用以提供这第二个实参. 再运行一遍程序. 使用不同的 length 值测试你的程序"
   ]
  },
  {
   "cell_type": "code",
   "execution_count": null,
   "metadata": {
    "collapsed": true
   },
   "outputs": [],
   "source": [
    "import turtle\n",
    "\n",
    "def square(t, l):\n",
    "    for i in range(4):\n",
    "        t.fd(l)\n",
    "        t.lt(90)\n",
    "\n",
    "def main(bob, length):\n",
    "    square(bob, length)\n",
    "\n",
    "bob = turtle.Turtle()\n",
    "main(bob, 200)"
   ]
  },
  {
   "cell_type": "markdown",
   "metadata": {},
   "source": [
    "### 3.复制 square 函数, 并命名为 polygon, 再添加一个形参 n 并修改函数体以绘制一个正 n 边形。提示: 正 n 边形的拐角是 360/n 度"
   ]
  },
  {
   "cell_type": "code",
   "execution_count": 1,
   "metadata": {
    "collapsed": true
   },
   "outputs": [],
   "source": [
    "import turtle\n",
    "\n",
    "def polygon(t, l, n):\n",
    "    for i in range(n):\n",
    "        t.fd(l)\n",
    "        t.lt(360/n)\n",
    "\n",
    "def main(bob, length, n):\n",
    "    polygon(bob, length, n)\n",
    "\n",
    "bob = turtle.Turtle()\n",
    "main(bob, 50, 8)"
   ]
  },
  {
   "cell_type": "markdown",
   "metadata": {},
   "source": [
    "### 4. 写一个函数 circle 接受代表乌龟的形参 t, 以及表示半径的形参 r, 并使用合适的长度和边数调用 polygon 画一个近似的圆。 使用不同的 r 值来测试你的函数"
   ]
  },
  {
   "cell_type": "code",
   "execution_count": null,
   "metadata": {
    "collapsed": true
   },
   "outputs": [],
   "source": [
    "import turtle\n",
    "import math\n",
    "\n",
    "def polygon(t, l, n):\n",
    "    for i in range(n):\n",
    "        t.fd(l)\n",
    "        t.lt(360/n)\n",
    "        \n",
    "def circle(t, r):\n",
    "    l = 2 * math.pi * r\n",
    "    polygon(t, l, 35)\n",
    "    \n",
    "bob = turtle.Turtle()\n",
    "circle(bob, 10)"
   ]
  },
  {
   "cell_type": "markdown",
   "metadata": {},
   "source": [
    "### 5.给 circle 函数写一个 更通用的版本, 称为 arc, 增加一个形参 angle, 用来表示画的圆弧的大小, 这里的 angle 的单位是度数, 所以当 arc = 360时, 则会画一个整圆"
   ]
  },
  {
   "cell_type": "code",
   "execution_count": null,
   "metadata": {
    "collapsed": true
   },
   "outputs": [],
   "source": [
    "import turtle\n",
    "import math\n",
    "\n",
    "def polygon(t, l, n):\n",
    "    for i in range(n):\n",
    "        t.fd(l)\n",
    "        t.lt(360/n)\n",
    "        \n",
    "def circle(t, r):\n",
    "    l = 2 * math.pi * r\n",
    "    polygon(t, l, 35)\n",
    "    \n",
    "def arc(t, r, angle):\n",
    "    l = 2 * math.pi * r\n",
    "    polygon(t, l, angle)\n",
    "    \n",
    "bob = turtle.Turtle()\n",
    "circle(bob, 10, 360)"
   ]
  }
 ],
 "metadata": {
  "kernelspec": {
   "display_name": "Python 3",
   "language": "python",
   "name": "python3"
  },
  "language_info": {
   "codemirror_mode": {
    "name": "ipython",
    "version": 3
   },
   "file_extension": ".py",
   "mimetype": "text/x-python",
   "name": "python",
   "nbconvert_exporter": "python",
   "pygments_lexer": "ipython3",
   "version": "3.6.3"
  }
 },
 "nbformat": 4,
 "nbformat_minor": 2
}
